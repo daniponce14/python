{
 "cells": [
  {
   "cell_type": "markdown",
   "id": "a8b38b5f-e292-4a35-ba72-754e2156def3",
   "metadata": {},
   "source": [
    "sentencia if (si)\n",
    "\n",
    "permiti dividir el flujo de un programa en diferentes caminos.El if se ejecuta siempre que la expresion que comprueba devuelba True"
   ]
  },
  {
   "cell_type": "code",
   "execution_count": 2,
   "id": "2401d8a0-7893-4c78-a8da-e66a7def83a2",
   "metadata": {},
   "outputs": [
    {
     "name": "stdout",
     "output_type": "stream",
     "text": [
      "se cumple la condicion\n",
      "tambien se muestre este print\n",
      "imprime de todas formas hasta el final\n"
     ]
    }
   ],
   "source": [
    "if True:#equivale a if not false \n",
    "  print(\"se cumple la condicion\")\n",
    "  print(\"tambien se muestre este print\")\n",
    "print(\"imprime de todas formas hasta el final\")"
   ]
  },
  {
   "cell_type": "markdown",
   "id": "738bcdf7-c684-4cf5-978f-1328c4c1b8ae",
   "metadata": {},
   "source": [
    "Podemos encadenas diferentes if\n"
   ]
  },
  {
   "cell_type": "code",
   "execution_count": 3,
   "id": "ecc9c6bc-ddc8-406c-bc47-544ddb209462",
   "metadata": {},
   "outputs": [
    {
     "name": "stdout",
     "output_type": "stream",
     "text": [
      "a vale 5\n"
     ]
    }
   ],
   "source": [
    "a= 5\n",
    "if a == 2:\n",
    "   print (\"a vale 2\")\n",
    "if a==5:\n",
    "    print (\"a vale 5\")"
   ]
  },
  {
   "cell_type": "markdown",
   "id": "7b744c21-44e7-4ff7-9a4d-f6195dce983a",
   "metadata": {},
   "source": [
    "O tambien podemos anidar if dentro de if"
   ]
  },
  {
   "cell_type": "code",
   "execution_count": 5,
   "id": "8cc1f6d6-15ad-4462-993f-6714b138532a",
   "metadata": {},
   "outputs": [
    {
     "name": "stdout",
     "output_type": "stream",
     "text": [
      "a vale 5\n",
      "y b vale 11\n",
      "valor de a y b 5 11\n"
     ]
    }
   ],
   "source": [
    "a=5\n",
    "b=11\n",
    "if a==5:\n",
    "    print(\"a vale\",a)\n",
    "    if b==11:\n",
    "        print(\"y b vale\",b)\n",
    "print(\"valor de a y b\",a,b)"
   ]
  },
  {
   "cell_type": "markdown",
   "id": "75680994-0716-4be3-b045-ecbcc8c4a499",
   "metadata": {},
   "source": [
    "Como condición podemos evaluar múltiples expresiones, siempre que éstas devuelvan true o false "
   ]
  },
  {
   "cell_type": "code",
   "execution_count": 12,
   "id": "8411d3a8-a664-49de-9d25-319611c39a33",
   "metadata": {},
   "outputs": [],
   "source": [
    "if a==5 and b==10:\n",
    "    print(\"a vale 5 y b vale 10\")"
   ]
  },
  {
   "cell_type": "markdown",
   "id": "b2059032-23ae-414f-9a41-fe1b3584b77d",
   "metadata": {},
   "source": [
    "Sentencia Else (Sino)\n",
    "\n",
    "se encadena a un if para comprobar el caso contario (en el que no se cumple la condicion)"
   ]
  },
  {
   "cell_type": "code",
   "execution_count": 15,
   "id": "8b7885ad-da59-4f66-9fc7-5439e2348fe7",
   "metadata": {},
   "outputs": [
    {
     "name": "stdout",
     "output_type": "stream",
     "text": [
      "11 es un numero inpar\n"
     ]
    }
   ],
   "source": [
    "n=11\n",
    "if n % 2==0:\n",
    "     print(n,\"es un numero par\")\n",
    "else:\n",
    "    print(n,\"es un numero inpar\")"
   ]
  },
  {
   "cell_type": "markdown",
   "id": "30a977bc-d2c7-4c44-ad02-46bd13b114b1",
   "metadata": {},
   "source": [
    "sentencia Elif (sino si )\n",
    "\n",
    "se encadena a un if u otro elif para comprobar múltiples condiciones. siempre que las anteriores no se ejecuten "
   ]
  },
  {
   "cell_type": "code",
   "execution_count": 22,
   "id": "1f3f136a-4fcf-4bf7-b5d0-eae03032a29d",
   "metadata": {},
   "outputs": [
    {
     "name": "stdout",
     "output_type": "stream",
     "text": [
      "este comando no se reconoce\n"
     ]
    }
   ],
   "source": [
    "comando=\"OTRA COSA\"\n",
    "if comando==\"ENTRAR\":\n",
    "  print(\"Bienvedinos al sistema\")\n",
    "elif comando==\"SALUDAR\":\n",
    "   print(\"hola, espero que te lo estes pasando bien aprendiendo python\")\n",
    "elif comando== \"SALIR\":\n",
    "   print (\"saliendo del sistema...\")\n",
    "else:\n",
    "   print(\"este comando no se reconoce\")\n"
   ]
  },
  {
   "cell_type": "code",
   "execution_count": 23,
   "id": "25b50ed8-851e-4d71-9f84-e3f2a486566b",
   "metadata": {},
   "outputs": [
    {
     "name": "stdin",
     "output_type": "stream",
     "text": [
      "introduce una nota 8\n"
     ]
    },
    {
     "name": "stdout",
     "output_type": "stream",
     "text": [
      "notable\n"
     ]
    }
   ],
   "source": [
    "nota=float(input(\"introduce una nota\"))\n",
    "if nota >=9:\n",
    "    print(\"sobresaliente\")\n",
    "elif nota >=7:\n",
    "    print(\"notable\")\n",
    "elif nota >=6:\n",
    "    print(\"bien\")\n",
    "elif nota >=5:\n",
    "    print(\"insuficiente\")"
   ]
  },
  {
   "cell_type": "markdown",
   "id": "bd180b93-daae-4c83-85af-467454dae2f1",
   "metadata": {},
   "source": [
    "Es  posible simular el funcionamiento de elif con if utilizando expresiones condicionales "
   ]
  },
  {
   "cell_type": "code",
   "execution_count": 24,
   "id": "f16befc0-905e-4601-aa0c-3981bbd6a6e1",
   "metadata": {},
   "outputs": [
    {
     "name": "stdin",
     "output_type": "stream",
     "text": [
      "introduce una nota 9\n"
     ]
    },
    {
     "name": "stdout",
     "output_type": "stream",
     "text": [
      "sobresaliente\n"
     ]
    }
   ],
   "source": [
    "nota= float(input(\"introduce una nota\"))\n",
    "if nota>=9:\n",
    "    print(\"sobresaliente\")\n",
    "elif nota >=7 and nota <9:\n",
    "    print(\"notable\")\n",
    "elif nota >=6 and nota <7:\n",
    "    print(\"bien\")\n",
    "elif nota >=5 and nota <6:\n",
    "    print(\"insuficiente\")"
   ]
  }
 ],
 "metadata": {
  "kernelspec": {
   "display_name": "Python 3 (ipykernel)",
   "language": "python",
   "name": "python3"
  },
  "language_info": {
   "codemirror_mode": {
    "name": "ipython",
    "version": 3
   },
   "file_extension": ".py",
   "mimetype": "text/x-python",
   "name": "python",
   "nbconvert_exporter": "python",
   "pygments_lexer": "ipython3",
   "version": "3.13.2"
  }
 },
 "nbformat": 4,
 "nbformat_minor": 5
}
