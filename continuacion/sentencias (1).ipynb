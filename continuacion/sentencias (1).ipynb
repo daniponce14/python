{
 "cells": [
  {
   "cell_type": "markdown",
   "id": "71dfaa67-a9bc-4065-b43e-1ba845d67350",
   "metadata": {},
   "source": [
    "Iteraciones \n",
    "\n",
    "iterar significa realizar una acción varias veces.cada vez que se repite se denomina iteración"
   ]
  },
  {
   "cell_type": "markdown",
   "id": "d833a2cc-c755-412e-80ee-e058929332f5",
   "metadata": {},
   "source": [
    "Sentencias While (mientras)\n",
    "\n",
    "se basa en repetir un  bloque a partir de evaluar una condicion lógica,siempreque esta sea true.\n",
    "Queda en las manos del programdor decidir el momento en que la condicion cambie a false para hacer que el while finalice.\n"
   ]
  },
  {
   "cell_type": "code",
   "execution_count": 3,
   "id": "5ab5b8bb-5588-48c4-8240-b44d136d5b1f",
   "metadata": {},
   "outputs": [],
   "source": [
    "c=0\n",
    "while c>=10:\n",
    "    c+=1\n",
    "    print(\"c vale\",c)"
   ]
  },
  {
   "cell_type": "markdown",
   "id": "29fff48e-26ee-4acb-8cd4-fff5b730b3c7",
   "metadata": {},
   "source": [
    "Sentencia Else en bucle While \n",
    "\n",
    "se encadena al while para ejecutar un bloque de codigo una vez la condicion ya no devuelve True(normalmente al final)"
   ]
  },
  {
   "cell_type": "code",
   "execution_count": 10,
   "id": "5b7a7fcf-58c6-47be-88d0-3aa6b10e151d",
   "metadata": {},
   "outputs": [
    {
     "name": "stdout",
     "output_type": "stream",
     "text": [
      "c vale 1\n",
      "c vale 2\n",
      "c vale 3\n",
      "c vale 4\n",
      "c vale 5\n",
      "c vale 6\n",
      "se ha completado toda la iteracion y vale 6\n"
     ]
    }
   ],
   "source": [
    "c=0\n",
    "while c<=5:\n",
    "    c+=1\n",
    "    print(\"c vale\",c)\n",
    "else:\n",
    "    print(\"se ha completado toda la iteracion y vale\",c)"
   ]
  },
  {
   "cell_type": "markdown",
   "id": "2e2daa57-e5fe-4585-b7ec-b303755c10b0",
   "metadata": {},
   "source": [
    "Instruccion break\n",
    "\n",
    "sirve para\"romper\" la ejecucion del while en cualquier momento. No se ejecutara el Else, ya que se llama al finalizar la iteración."
   ]
  },
  {
   "cell_type": "code",
   "execution_count": 11,
   "id": "c2ca65f1-1c0e-47db-a817-30fb332d67dd",
   "metadata": {},
   "outputs": [
    {
     "name": "stdout",
     "output_type": "stream",
     "text": [
      "c vale 1\n",
      "c vale 2\n",
      "c vale 3\n",
      "Rompemos el bucle cuando c vale\n"
     ]
    }
   ],
   "source": [
    "c=0\n",
    "while c<=5:\n",
    "    c+=1\n",
    "    if(c==4):\n",
    "        print(\"Rompemos el bucle cuando c vale\")\n",
    "        break\n",
    "    print(\"c vale\",c)\n",
    "else:\n",
    "    print(\"se ha completado toda la iteracion y vale\",c)"
   ]
  },
  {
   "cell_type": "markdown",
   "id": "1c5eb49b-e5b7-4c76-9c32-4bc7efa7a57c",
   "metadata": {},
   "source": [
    "Instrucción continue\n",
    "\n",
    "sirve para \"saltarse\" la iteración actual sin romper bucle."
   ]
  },
  {
   "cell_type": "code",
   "execution_count": 12,
   "id": "b423fbc1-80aa-4806-94cd-951270b62a16",
   "metadata": {},
   "outputs": [
    {
     "name": "stdout",
     "output_type": "stream",
     "text": [
      "c vale 1\n",
      "c vale 2\n",
      "continuamos con la siguiente iteracion 3\n",
      "continuamos con la siguiente iteracion 4\n",
      "c vale 5\n",
      "c vale 6\n",
      "se ha completado toda la iteracion y vale 6\n"
     ]
    }
   ],
   "source": [
    "c=0\n",
    "while c<=5:\n",
    "    c+=1\n",
    "    if c==3 or c==4:\n",
    "        print(\"continuamos con la siguiente iteracion\",c)\n",
    "        continue\n",
    "    print(\"c vale\",c)\n",
    "else:\n",
    "    print(\"se ha completado toda la iteracion y vale\",c)"
   ]
  },
  {
   "cell_type": "markdown",
   "id": "a7b89ee1-4813-4f14-8035-bcfe262b14b5",
   "metadata": {},
   "source": [
    "Creando un menú interactivo "
   ]
  },
  {
   "cell_type": "code",
   "execution_count": 9,
   "id": "2f732307-12a1-4d91-973e-04b5e8ee4645",
   "metadata": {},
   "outputs": [
    {
     "name": "stdout",
     "output_type": "stream",
     "text": [
      "bienvenido al menu interactivo\n",
      "¿Que quieres hacer?Escribe una opcion \n",
      "    1)saludar\n",
      "    2)sumar dos numeros \n",
      "    3)salir\n"
     ]
    },
    {
     "name": "stdin",
     "output_type": "stream",
     "text": [
      " 1\n"
     ]
    },
    {
     "name": "stdout",
     "output_type": "stream",
     "text": [
      "hola, espero que te lo estes pasando bien\n",
      "¿Que quieres hacer?Escribe una opcion \n",
      "    1)saludar\n",
      "    2)sumar dos numeros \n",
      "    3)salir\n"
     ]
    },
    {
     "name": "stdin",
     "output_type": "stream",
     "text": [
      " 2\n",
      "introduce el primer número: 5\n",
      "introduce el segundo número: 8\n"
     ]
    },
    {
     "name": "stdout",
     "output_type": "stream",
     "text": [
      "El resultado de la suma es: -3.0\n",
      "¿Que quieres hacer?Escribe una opcion \n",
      "    1)saludar\n",
      "    2)sumar dos numeros \n",
      "    3)salir\n"
     ]
    },
    {
     "name": "stdin",
     "output_type": "stream",
     "text": [
      " 3\n"
     ]
    },
    {
     "name": "stdout",
     "output_type": "stream",
     "text": [
      "! hasta luego!ha sido un placer ayudarte\n"
     ]
    }
   ],
   "source": [
    "print(\"bienvenido al menu interactivo\")\n",
    "while(True):\n",
    "    print(\"\"\"¿Que quieres hacer?Escribe una opcion \n",
    "    1)saludar\n",
    "    2)sumar dos numeros \n",
    "    3)salir\"\"\")\n",
    "    opcion= input()\n",
    "    if opcion == '1':\n",
    "        print(\"hola, espero que te lo estes pasando bien\")\n",
    "    elif opcion =='2':\n",
    "        n1=float(input(\"introduce el primer número:\"))\n",
    "        n2=float(input(\"introduce el segundo número:\"))\n",
    "        print(\"El resultado de la suma es:\", n1-n2)\n",
    "    elif opcion =='3':\n",
    "        print(\"! hasta luego!ha sido un placer ayudarte\")\n",
    "        break\n",
    "    else:(\"comando desconocido, vuelve a intentarlo\")\n",
    "     "
   ]
  },
  {
   "cell_type": "code",
   "execution_count": null,
   "id": "c317e5d5-3350-456a-9b8e-a0af975fe98e",
   "metadata": {},
   "outputs": [],
   "source": []
  }
 ],
 "metadata": {
  "kernelspec": {
   "display_name": "Python 3 (ipykernel)",
   "language": "python",
   "name": "python3"
  },
  "language_info": {
   "codemirror_mode": {
    "name": "ipython",
    "version": 3
   },
   "file_extension": ".py",
   "mimetype": "text/x-python",
   "name": "python",
   "nbconvert_exporter": "python",
   "pygments_lexer": "ipython3",
   "version": "3.13.2"
  }
 },
 "nbformat": 4,
 "nbformat_minor": 5
}
