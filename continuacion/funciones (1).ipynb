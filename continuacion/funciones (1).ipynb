{
 "cells": [
  {
   "cell_type": "markdown",
   "id": "315fbe66-db14-4a98-aa99-7a12acdb68f0",
   "metadata": {},
   "source": [
    "Las funciones \n",
    "\n",
    "son fragmentos de codigo que se pueden ejecutar multiples veces. pueden recibir y devolver infformación para comunicarse con el proceso principal\n",
    "\n",
    "Definición y llamada"
   ]
  },
  {
   "cell_type": "code",
   "execution_count": 3,
   "id": "64512d40-5430-4f5a-8277-566f4b85f806",
   "metadata": {},
   "outputs": [
    {
     "name": "stdout",
     "output_type": "stream",
     "text": [
      "Hola!Este print se llama desde l función saludar()\n",
      "Hola!Este print se llama desde l función saludar()\n",
      "Hola!Este print se llama desde l función saludar()\n"
     ]
    }
   ],
   "source": [
    "def saludar():\n",
    " print(\"Hola!Este print se llama desde l función saludar()\")\n",
    "saludar()\n",
    "saludar()\n",
    "saludar()"
   ]
  },
  {
   "cell_type": "markdown",
   "id": "d76e7166-3139-4323-9765-9a5cb1a2fc5e",
   "metadata": {},
   "source": [
    "Dentro de una función podemos utilizar variables y sentencias de control:"
   ]
  },
  {
   "cell_type": "code",
   "execution_count": 6,
   "id": "246023d4-240b-42b6-bc11-56756512d8bc",
   "metadata": {},
   "outputs": [
    {
     "name": "stdout",
     "output_type": "stream",
     "text": [
      "5*0=0\n",
      "5*1=5\n",
      "5*2=10\n",
      "5*3=15\n",
      "5*4=20\n",
      "5*5=25\n",
      "5*6=30\n",
      "5*7=35\n",
      "5*8=40\n",
      "5*9=45\n",
      "5*10=50\n"
     ]
    }
   ],
   "source": [
    "def dibujar_tabla_del_5():\n",
    "    for i in range(11):\n",
    "        print(\"5*{}={}\".format(i,i*5))\n",
    "dibujar_tabla_del_5()"
   ]
  },
  {
   "cell_type": "markdown",
   "id": "75e7e7da-d73a-4e5b-b107-93eb9fdaa1e4",
   "metadata": {},
   "source": [
    "Ambito de las variables\n",
    "\n",
    "una variable declarada en una función no existe en la función principal:"
   ]
  },
  {
   "cell_type": "code",
   "execution_count": 22,
   "id": "9ace910e-a41a-4709-a3e4-f39ffb18e290",
   "metadata": {},
   "outputs": [
    {
     "name": "stdout",
     "output_type": "stream",
     "text": [
      "El valor de n es:10\n",
      "El valor de n es: 10\n"
     ]
    }
   ],
   "source": [
    " def test():\n",
    "    n=10\n",
    "    print(\"El valor de n es:{}\".format(n))\n",
    "    print(\"El valor de n es:\",n)\n",
    " test()"
   ]
  },
  {
   "cell_type": "code",
   "execution_count": 20,
   "id": "7007c701-ad6e-4cb4-bd27-a6900d70dbdb",
   "metadata": {},
   "outputs": [
    {
     "ename": "NameError",
     "evalue": "name 'n' is not defined",
     "output_type": "error",
     "traceback": [
      "\u001b[1;31m---------------------------------------------------------------------------\u001b[0m",
      "\u001b[1;31mNameError\u001b[0m                                 Traceback (most recent call last)",
      "Cell \u001b[1;32mIn[20], line 1\u001b[0m\n\u001b[1;32m----> 1\u001b[0m \u001b[38;5;28mprint\u001b[39m(\u001b[43mn\u001b[49m)\n",
      "\u001b[1;31mNameError\u001b[0m: name 'n' is not defined"
     ]
    }
   ],
   "source": [
    "print(n)"
   ]
  },
  {
   "cell_type": "markdown",
   "id": "0578f3bd-f19d-4d81-904f-b924734e9aaf",
   "metadata": {},
   "source": [
    "Sin embargo, una variable declarada fuera de la función (al mismo nivel),si que es accesible desde la función:"
   ]
  },
  {
   "cell_type": "code",
   "execution_count": 21,
   "id": "7417a7bc-3a84-4198-9ba3-9287d3d8e17d",
   "metadata": {},
   "outputs": [
    {
     "name": "stdout",
     "output_type": "stream",
     "text": [
      "10\n"
     ]
    }
   ],
   "source": [
    "m=10\n",
    "def test():\n",
    "    print(m)\n",
    "test()\n"
   ]
  },
  {
   "cell_type": "markdown",
   "id": "c7313078-dd28-4878-824b-edeaed2fb17a",
   "metadata": {},
   "source": [
    "siempre que declaremos la variable antes de la ejecución,podemos acceder a ella desde dentro:"
   ]
  },
  {
   "cell_type": "code",
   "execution_count": 23,
   "id": "2ea99a30-ddb2-45df-b97c-c05aab4ba6ea",
   "metadata": {},
   "outputs": [
    {
     "name": "stdout",
     "output_type": "stream",
     "text": [
      "10\n"
     ]
    }
   ],
   "source": [
    "def test():\n",
    "    print(m)\n",
    "    #test()\n",
    "    l=10\n",
    "test()\n"
   ]
  },
  {
   "cell_type": "markdown",
   "id": "454433bd-f6b6-4677-8d22-46f9036105ea",
   "metadata": {},
   "source": [
    "En el caso que declaremos de nuevo una variable en la funci+on, se creara un copia de la misma que solo funcionara dentro de la funcion:\n",
    "\n",
    "por tanto no podemos modificar una variable externa de una función"
   ]
  },
  {
   "cell_type": "code",
   "execution_count": 31,
   "id": "dd8332ae-b24e-41a0-8b34-3f3007c2c491",
   "metadata": {},
   "outputs": [
    {
     "name": "stdout",
     "output_type": "stream",
     "text": [
      "5\n",
      "5\n"
     ]
    }
   ],
   "source": [
    "def test():\n",
    "    o=5#variable que solo existe dentro de la función \n",
    "    print(o)\n",
    "test()\n",
    "\n",
    "o=10#variable externa, no modificable\n",
    "test()\n",
    "def test():\n",
    "    o=3\n",
    "    print(o)\n",
    "\n",
    "    \n",
    "    print(o)\n",
    "    test()"
   ]
  },
  {
   "cell_type": "markdown",
   "id": "33ce8504-70a1-43aa-9342-d4ff0c8690c2",
   "metadata": {},
   "source": [
    " la instruccion global \n",
    "\n",
    " para poder modificar una variable externa en la funcion, debemos que es global de la sigiente forma:"
   ]
  },
  {
   "cell_type": "code",
   "execution_count": 34,
   "id": "f6f16736-6a84-45bd-8be3-b7fce3764f51",
   "metadata": {},
   "outputs": [
    {
     "name": "stdout",
     "output_type": "stream",
     "text": [
      "5\n",
      "5\n",
      "5\n"
     ]
    }
   ],
   "source": [
    " def test():\n",
    "    global o # variable que hace referencia a la o externa\n",
    "    o=5 \n",
    "    print(o)\n",
    " test()\n",
    "\n",
    " o=10\n",
    " test()\n",
    " print(o)"
   ]
  },
  {
   "cell_type": "code",
   "execution_count": null,
   "id": "ec07c77a-768d-4219-8537-6458f2816f78",
   "metadata": {},
   "outputs": [],
   "source": []
  }
 ],
 "metadata": {
  "kernelspec": {
   "display_name": "Python 3 (ipykernel)",
   "language": "python",
   "name": "python3"
  },
  "language_info": {
   "codemirror_mode": {
    "name": "ipython",
    "version": 3
   },
   "file_extension": ".py",
   "mimetype": "text/x-python",
   "name": "python",
   "nbconvert_exporter": "python",
   "pygments_lexer": "ipython3",
   "version": "3.13.2"
  }
 },
 "nbformat": 4,
 "nbformat_minor": 5
}
