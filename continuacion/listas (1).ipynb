{
 "cells": [
  {
   "cell_type": "markdown",
   "id": "84cfbfa9-923a-41d2-b302-882cd1808d32",
   "metadata": {},
   "source": [
    "Recorriendo los elementos de una lista utilizando while"
   ]
  },
  {
   "cell_type": "code",
   "execution_count": 1,
   "id": "2baf61ac-c470-4428-b89d-e96489d650ea",
   "metadata": {},
   "outputs": [
    {
     "name": "stdout",
     "output_type": "stream",
     "text": [
      "1\n",
      "2\n",
      "3\n",
      "4\n",
      "5\n",
      "6\n",
      "7\n",
      "8\n",
      "9\n",
      "10\n"
     ]
    }
   ],
   "source": [
    "numeros = [1,2,3,4,5,6,7,8,9,10]\n",
    "indice=0\n",
    "while indice <len(numeros):\n",
    "    print(numeros [indice])\n",
    "    indice+=1"
   ]
  },
  {
   "cell_type": "markdown",
   "id": "c87e720d-852a-44d3-b13a-c2b0e9d493dd",
   "metadata": {},
   "source": [
    "Sentencia for (para) con listas "
   ]
  },
  {
   "cell_type": "code",
   "execution_count": null,
   "id": "25bfdf99-f4cd-4dc4-8442-c8370d7aaa85",
   "metadata": {},
   "outputs": [],
   "source": [
    "for numero in numeros: # para [variable] en [listas]\n",
    "    print(numero)"
   ]
  },
  {
   "cell_type": "markdown",
   "id": "8b45b383-2974-45d5-b328-84d73501e6c7",
   "metadata": {},
   "source": [
    "Modificar items de las listas al vuelo\n",
    "\n",
    "\n",
    "para asignar un numero valor a los elementos de una lista mientras la recorremos, podriamos intenar asignar al numero el nuevo valor:\n"
   ]
  },
  {
   "cell_type": "code",
   "execution_count": null,
   "id": "05017b11-ca05-48cf-9710-d38932a11cec",
   "metadata": {},
   "outputs": [],
   "source": [
    "for numero in numeros:\n",
    "    numero*=10\n",
    "    print(numero)\n",
    "print(numeros)"
   ]
  },
  {
   "cell_type": "code",
   "execution_count": null,
   "id": "f900d385-dc53-41f4-b43c-40bdd2166107",
   "metadata": {},
   "outputs": [],
   "source": [
    "numeros"
   ]
  },
  {
   "cell_type": "markdown",
   "id": "dcb33067-c91c-49f0-98f3-ae0ecf9c7660",
   "metadata": {},
   "source": [
    "Sin embargo, esto no funciona.la forma correcta de hacerlo es haciendo referencia al indice de la lista en lugar de la variable"
   ]
  },
  {
   "cell_type": "code",
   "execution_count": 20,
   "id": "4c7ee9ed-350e-4db9-9e2c-0b7ff7e4a750",
   "metadata": {},
   "outputs": [
    {
     "data": {
      "text/plain": [
       "[10, 20, 30, 40, 50, 60, 70, 80, 90, 100]"
      ]
     },
     "execution_count": 20,
     "metadata": {},
     "output_type": "execute_result"
    }
   ],
   "source": [
    "indice=0\n",
    "numeros=[1,2,3,4,5,6,7,8,9,10]\n",
    "for numero in numeros:\n",
    " numeros[indice] *=10\n",
    " indice +=1\n",
    "numeros"
   ]
  },
  {
   "cell_type": "markdown",
   "id": "e0a5c44d-d317-4947-9180-ada1931bc2bc",
   "metadata": {},
   "source": [
    "Podemos utilizar la funcion enumerate [] para conseguir el indice y el valor en cada iteración facilmente:\n"
   ]
  },
  {
   "cell_type": "code",
   "execution_count": null,
   "id": "c18a077e-4cd6-47fd-b983-be1e36dd04c1",
   "metadata": {},
   "outputs": [],
   "source": [
    "numeros = [1,2,3,4,5,6,7,8,9,10]\n",
    "for numero,numeros in enumerate(numeros):\n",
    "  numeros[indice] *=10\n",
    "  numeros[numero]*=10\n",
    "  print(numeros)\n",
    "#numeros"
   ]
  },
  {
   "cell_type": "markdown",
   "id": "5be48809-2170-4f9c-ace5-8395f27b55d2",
   "metadata": {},
   "source": [
    "For con cadenas"
   ]
  },
  {
   "cell_type": "code",
   "execution_count": 35,
   "id": "2d5a95b2-80dc-47e7-adb3-85841714d0a6",
   "metadata": {},
   "outputs": [
    {
     "name": "stdout",
     "output_type": "stream",
     "text": [
      "H\n",
      "o\n",
      "l\n",
      "a\n",
      " \n",
      "a\n",
      "m\n",
      "i\n",
      "g\n",
      "o\n",
      "s\n"
     ]
    }
   ],
   "source": [
    "cadena =\"Hola amigos\"\n",
    "for caracter in cadena:\n",
    "    print(caracter)"
   ]
  },
  {
   "cell_type": "markdown",
   "id": "0482b147-0ffe-4e47-bf09-a0e09c5d1dd7",
   "metadata": {},
   "source": [
    "pero debemos recordar que las cadena son inmutables"
   ]
  },
  {
   "cell_type": "code",
   "execution_count": 36,
   "id": "b7716ec3-27ee-45f8-9ea8-39f7e758f302",
   "metadata": {},
   "outputs": [
    {
     "ename": "TypeError",
     "evalue": "'str' object does not support item assignment",
     "output_type": "error",
     "traceback": [
      "\u001b[1;31m---------------------------------------------------------------------------\u001b[0m",
      "\u001b[1;31mTypeError\u001b[0m                                 Traceback (most recent call last)",
      "Cell \u001b[1;32mIn[36], line 2\u001b[0m\n\u001b[0;32m      1\u001b[0m \u001b[38;5;28;01mfor\u001b[39;00m i,c \u001b[38;5;129;01min\u001b[39;00m \u001b[38;5;28menumerate\u001b[39m(cadena):\n\u001b[1;32m----> 2\u001b[0m     \u001b[43mcadena\u001b[49m\u001b[43m[\u001b[49m\u001b[43mi\u001b[49m\u001b[43m]\u001b[49m \u001b[38;5;241m=\u001b[39m \u001b[38;5;124m\"\u001b[39m\u001b[38;5;124m*\u001b[39m\u001b[38;5;124m\"\u001b[39m\n",
      "\u001b[1;31mTypeError\u001b[0m: 'str' object does not support item assignment"
     ]
    }
   ],
   "source": [
    "for i,c in enumerate(cadena):\n",
    "    cadena[i] = \"*\""
   ]
  },
  {
   "cell_type": "markdown",
   "id": "17ce7015-38d7-4cf5-b79f-06a25faec114",
   "metadata": {},
   "source": [
    "sin embargo siempre podemos generar una nueva cadena:"
   ]
  },
  {
   "cell_type": "code",
   "execution_count": 44,
   "id": "68cc266c-4dde-46c0-84e1-7c4a29a0c3c4",
   "metadata": {},
   "outputs": [],
   "source": [
    "cadena2=\"\"\n",
    "for caracter in cadena:\n",
    "    cadena2 +=caracter * 2"
   ]
  },
  {
   "cell_type": "code",
   "execution_count": 40,
   "id": "1e213380-7e4d-4acd-aa6b-54ffd570e199",
   "metadata": {},
   "outputs": [
    {
     "data": {
      "text/plain": [
       "''"
      ]
     },
     "execution_count": 40,
     "metadata": {},
     "output_type": "execute_result"
    }
   ],
   "source": [
    "cadena"
   ]
  },
  {
   "cell_type": "code",
   "execution_count": 45,
   "id": "cb6d3dea-49c6-4d59-bc67-d3b97ce1dc35",
   "metadata": {},
   "outputs": [
    {
     "data": {
      "text/plain": [
       "''"
      ]
     },
     "execution_count": 45,
     "metadata": {},
     "output_type": "execute_result"
    }
   ],
   "source": [
    "cadena2"
   ]
  },
  {
   "cell_type": "markdown",
   "id": "8761a807-9a59-4638-8dd8-2f7308759974",
   "metadata": {},
   "source": [
    "La funcion range\n",
    "\n",
    "sirve para generar una lista de numeros que podemos recorrer facilmente, pero no ocupa menos memoria porque sobre la marcha:\n"
   ]
  },
  {
   "cell_type": "code",
   "execution_count": 46,
   "id": "0dcb3699-6ee1-4612-b5c6-2d2a64371213",
   "metadata": {},
   "outputs": [
    {
     "name": "stdout",
     "output_type": "stream",
     "text": [
      "0\n",
      "1\n",
      "2\n",
      "3\n",
      "4\n",
      "5\n",
      "6\n",
      "7\n",
      "8\n",
      "9\n"
     ]
    }
   ],
   "source": [
    "for i in range(10):\n",
    "    print(i)"
   ]
  },
  {
   "cell_type": "code",
   "execution_count": 47,
   "id": "54d893e3-b93c-4287-8988-1854270b5842",
   "metadata": {},
   "outputs": [
    {
     "data": {
      "text/plain": [
       "range(0, 10)"
      ]
     },
     "execution_count": 47,
     "metadata": {},
     "output_type": "execute_result"
    }
   ],
   "source": [
    "range(10)"
   ]
  },
  {
   "cell_type": "code",
   "execution_count": 48,
   "id": "8a89d594-c25b-432e-bd58-f5fac3673e83",
   "metadata": {},
   "outputs": [
    {
     "name": "stdout",
     "output_type": "stream",
     "text": [
      "1\n",
      "2\n",
      "3\n",
      "4\n",
      "5\n",
      "6\n",
      "7\n",
      "8\n",
      "9\n"
     ]
    }
   ],
   "source": [
    "for i in(1,2,3,4,5,6,7,8,9):\n",
    "    print(i)"
   ]
  },
  {
   "cell_type": "markdown",
   "id": "a7c87bbe-ac29-4df8-bb06-c4e720c5b0f2",
   "metadata": {},
   "source": [
    "si queremos conseguir la lista literal podemos transformar el range a una lista"
   ]
  },
  {
   "cell_type": "code",
   "execution_count": 50,
   "id": "c4ce67ba-d452-4e38-9000-d89843dd05ff",
   "metadata": {},
   "outputs": [
    {
     "data": {
      "text/plain": [
       "[0, 1, 2, 3, 4, 5, 6, 7, 8, 9]"
      ]
     },
     "execution_count": 50,
     "metadata": {},
     "output_type": "execute_result"
    }
   ],
   "source": [
    "list(range(10))"
   ]
  },
  {
   "cell_type": "code",
   "execution_count": null,
   "id": "e58c4c62-c177-4624-bac8-35cd26a4b3f4",
   "metadata": {},
   "outputs": [],
   "source": []
  }
 ],
 "metadata": {
  "kernelspec": {
   "display_name": "Python 3 (ipykernel)",
   "language": "python",
   "name": "python3"
  },
  "language_info": {
   "codemirror_mode": {
    "name": "ipython",
    "version": 3
   },
   "file_extension": ".py",
   "mimetype": "text/x-python",
   "name": "python",
   "nbconvert_exporter": "python",
   "pygments_lexer": "ipython3",
   "version": "3.13.2"
  }
 },
 "nbformat": 4,
 "nbformat_minor": 5
}
